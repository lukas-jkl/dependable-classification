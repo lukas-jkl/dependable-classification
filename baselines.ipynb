{
 "metadata": {
  "language_info": {
   "codemirror_mode": {
    "name": "ipython",
    "version": 3
   },
   "file_extension": ".py",
   "mimetype": "text/x-python",
   "name": "python",
   "nbconvert_exporter": "python",
   "pygments_lexer": "ipython3",
   "version": "3.9.1"
  },
  "orig_nbformat": 2,
  "kernelspec": {
   "name": "python391jvsc74a57bd04cd7ab41f5fca4b9b44701077e38c5ffd31fe66a6cab21e0214b68d958d0e462",
   "display_name": "Python 3.9.1 64-bit"
  },
  "metadata": {
   "interpreter": {
    "hash": "4cd7ab41f5fca4b9b44701077e38c5ffd31fe66a6cab21e0214b68d958d0e462"
   }
  }
 },
 "nbformat": 4,
 "nbformat_minor": 2,
 "cells": [
  {
   "cell_type": "code",
   "execution_count": 4,
   "metadata": {},
   "outputs": [],
   "source": [
    "import pandas as pd\n",
    "import numpy as np\n",
    "import matplotlib.pyplot as plt\n",
    "from tqdm.notebook import tqdm\n",
    "\n",
    "from sklearn.model_selection import train_test_split\n",
    "from sklearn.metrics import accuracy_score, precision_recall_fscore_support\n",
    "from sklearn.linear_model import LogisticRegression\n",
    "from sklearn.svm import SVC\n",
    "\n",
    "import wandb"
   ]
  },
  {
   "cell_type": "code",
   "execution_count": 5,
   "metadata": {},
   "outputs": [
    {
     "output_type": "display_data",
     "data": {
      "text/plain": "HBox(children=(FloatProgress(value=0.0, max=3.0), HTML(value='')))",
      "application/vnd.jupyter.widget-view+json": {
       "version_major": 2,
       "version_minor": 0,
       "model_id": "e4ef728805a14079adabd3f3552627da"
      }
     },
     "metadata": {}
    },
    {
     "output_type": "stream",
     "name": "stdout",
     "text": [
      "\n"
     ]
    }
   ],
   "source": [
    "datasets = {}\n",
    "train_size = 0.9\n",
    "\n",
    "for i in tqdm(['a', 'b', 'c']):\n",
    "    data = pd.read_excel(f\"./data/trainingdata_{i}.xls\")\n",
    "    x = data[['x_i1', 'x_i2']].to_numpy()\n",
    "    y = data['l_i'].to_numpy()\n",
    "    X_train, X_test, y_train, y_test = train_test_split(x, y, train_size=train_size)\n",
    "    datasets[i] = {\n",
    "        'train': (X_train, y_train),\n",
    "        'test': (X_test, y_test),\n",
    "    }"
   ]
  },
  {
   "cell_type": "code",
   "execution_count": 6,
   "metadata": {},
   "outputs": [],
   "source": [
    "def compute_metrics(labels, preds):\n",
    "    precision, recall, f1, support = precision_recall_fscore_support(labels, preds, average='weighted', labels=np.unique(preds))\n",
    "    acc = accuracy_score(labels, preds)\n",
    "\n",
    "    return {\n",
    "        'acc': acc,\n",
    "        'f1': f1,\n",
    "        'precision': precision,\n",
    "        'recall': recall,\n",
    "        'support': support\n",
    "    }"
   ]
  },
  {
   "cell_type": "code",
   "execution_count": 8,
   "metadata": {},
   "outputs": [
    {
     "output_type": "display_data",
     "data": {
      "text/plain": "HBox(children=(FloatProgress(value=0.0, max=3.0), HTML(value='')))",
      "application/vnd.jupyter.widget-view+json": {
       "version_major": 2,
       "version_minor": 0,
       "model_id": "e04bb58c2def4712b75ccade5828cce4"
      }
     },
     "metadata": {}
    },
    {
     "output_type": "display_data",
     "data": {
      "text/plain": "HBox(children=(FloatProgress(value=0.0, max=2.0), HTML(value='')))",
      "application/vnd.jupyter.widget-view+json": {
       "version_major": 2,
       "version_minor": 0,
       "model_id": "59f990a93d434b0c9aedfa4b5014582d"
      }
     },
     "metadata": {}
    },
    {
     "output_type": "stream",
     "name": "stderr",
     "text": [
      "Failed to detect the name of this notebook, you can set it manually with the WANDB_NOTEBOOK_NAME environment variable to enable code saving.\n",
      "\u001b[34m\u001b[1mwandb\u001b[0m: Currently logged in as: \u001b[33mdeutschmann\u001b[0m (use `wandb login --relogin` to force relogin)\n"
     ]
    },
    {
     "output_type": "display_data",
     "data": {
      "text/plain": "<IPython.core.display.HTML object>",
      "text/html": "\n                Tracking run with wandb version 0.10.25<br/>\n                Syncing run <strong style=\"color:#cdcd00\">noble-firebrand-82</strong> to <a href=\"https://wandb.ai\" target=\"_blank\">Weights & Biases</a> <a href=\"https://docs.wandb.com/integrations/jupyter.html\" target=\"_blank\">(Documentation)</a>.<br/>\n                Project page: <a href=\"https://wandb.ai/implication-elimination/dependable-classification\" target=\"_blank\">https://wandb.ai/implication-elimination/dependable-classification</a><br/>\n                Run page: <a href=\"https://wandb.ai/implication-elimination/dependable-classification/runs/33m4sd3e\" target=\"_blank\">https://wandb.ai/implication-elimination/dependable-classification/runs/33m4sd3e</a><br/>\n                Run data is saved locally in <code>/Users/patrick/Projects/ML/Siemens Challenge/dependable-classification/wandb/run-20210410_101659-33m4sd3e</code><br/><br/>\n            "
     },
     "metadata": {}
    },
    {
     "output_type": "display_data",
     "data": {
      "text/plain": "<IPython.core.display.HTML object>",
      "text/html": "Finishing last run (ID:33m4sd3e) before initializing another..."
     },
     "metadata": {}
    },
    {
     "output_type": "display_data",
     "data": {
      "text/plain": "<IPython.core.display.HTML object>",
      "text/html": "<br/>Waiting for W&B process to finish, PID 22582<br/>Program ended successfully."
     },
     "metadata": {}
    },
    {
     "output_type": "display_data",
     "data": {
      "text/plain": "VBox(children=(Label(value=' 0.00MB of 0.00MB uploaded (0.00MB deduped)\\r'), FloatProgress(value=1.0, max=1.0)…",
      "application/vnd.jupyter.widget-view+json": {
       "version_major": 2,
       "version_minor": 0,
       "model_id": "1963b8dd26de461d88cadbea734e88de"
      }
     },
     "metadata": {}
    },
    {
     "output_type": "display_data",
     "data": {
      "text/plain": "<IPython.core.display.HTML object>",
      "text/html": "Find user logs for this run at: <code>/Users/patrick/Projects/ML/Siemens Challenge/dependable-classification/wandb/run-20210410_101659-33m4sd3e/logs/debug.log</code>"
     },
     "metadata": {}
    },
    {
     "output_type": "display_data",
     "data": {
      "text/plain": "<IPython.core.display.HTML object>",
      "text/html": "Find internal logs for this run at: <code>/Users/patrick/Projects/ML/Siemens Challenge/dependable-classification/wandb/run-20210410_101659-33m4sd3e/logs/debug-internal.log</code>"
     },
     "metadata": {}
    },
    {
     "output_type": "display_data",
     "data": {
      "text/plain": "<IPython.core.display.HTML object>",
      "text/html": "<h3>Run summary:</h3><br/><style>\n    table.wandb td:nth-child(1) { padding: 0 10px; text-align: right }\n    </style><table class=\"wandb\">\n<tr><td>train_acc</td><td>0.66444</td></tr><tr><td>train_f1</td><td>0.53227</td></tr><tr><td>train_precision</td><td>0.44395</td></tr><tr><td>train_recall</td><td>0.66444</td></tr><tr><td>test_acc</td><td>0.74</td></tr><tr><td>test_f1</td><td>0.85057</td></tr><tr><td>test_precision</td><td>0.74</td></tr><tr><td>test_recall</td><td>1.0</td></tr><tr><td>_runtime</td><td>2</td></tr><tr><td>_timestamp</td><td>1618042621</td></tr><tr><td>_step</td><td>0</td></tr></table>"
     },
     "metadata": {}
    },
    {
     "output_type": "display_data",
     "data": {
      "text/plain": "<IPython.core.display.HTML object>",
      "text/html": "<h3>Run history:</h3><br/><style>\n    table.wandb td:nth-child(1) { padding: 0 10px; text-align: right }\n    </style><table class=\"wandb\">\n<tr><td>train_acc</td><td>▁</td></tr><tr><td>train_f1</td><td>▁</td></tr><tr><td>train_precision</td><td>▁</td></tr><tr><td>train_recall</td><td>▁</td></tr><tr><td>test_acc</td><td>▁</td></tr><tr><td>test_f1</td><td>▁</td></tr><tr><td>test_precision</td><td>▁</td></tr><tr><td>test_recall</td><td>▁</td></tr><tr><td>_runtime</td><td>▁</td></tr><tr><td>_timestamp</td><td>▁</td></tr><tr><td>_step</td><td>▁</td></tr></table><br/>"
     },
     "metadata": {}
    },
    {
     "output_type": "display_data",
     "data": {
      "text/plain": "<IPython.core.display.HTML object>",
      "text/html": "Synced 4 W&B file(s), 0 media file(s), 0 artifact file(s) and 0 other file(s)"
     },
     "metadata": {}
    },
    {
     "output_type": "display_data",
     "data": {
      "text/plain": "<IPython.core.display.HTML object>",
      "text/html": "\n                    <br/>Synced <strong style=\"color:#cdcd00\">noble-firebrand-82</strong>: <a href=\"https://wandb.ai/implication-elimination/dependable-classification/runs/33m4sd3e\" target=\"_blank\">https://wandb.ai/implication-elimination/dependable-classification/runs/33m4sd3e</a><br/>\n                "
     },
     "metadata": {}
    },
    {
     "output_type": "display_data",
     "data": {
      "text/plain": "<IPython.core.display.HTML object>",
      "text/html": "...Successfully finished last run (ID:33m4sd3e). Initializing new run:<br/><br/>"
     },
     "metadata": {}
    },
    {
     "output_type": "display_data",
     "data": {
      "text/plain": "<IPython.core.display.HTML object>",
      "text/html": "\n                Tracking run with wandb version 0.10.25<br/>\n                Syncing run <strong style=\"color:#cdcd00\">wobbly-waterfall-83</strong> to <a href=\"https://wandb.ai\" target=\"_blank\">Weights & Biases</a> <a href=\"https://docs.wandb.com/integrations/jupyter.html\" target=\"_blank\">(Documentation)</a>.<br/>\n                Project page: <a href=\"https://wandb.ai/implication-elimination/dependable-classification\" target=\"_blank\">https://wandb.ai/implication-elimination/dependable-classification</a><br/>\n                Run page: <a href=\"https://wandb.ai/implication-elimination/dependable-classification/runs/2gwx73vz\" target=\"_blank\">https://wandb.ai/implication-elimination/dependable-classification/runs/2gwx73vz</a><br/>\n                Run data is saved locally in <code>/Users/patrick/Projects/ML/Siemens Challenge/dependable-classification/wandb/run-20210410_101701-2gwx73vz</code><br/><br/>\n            "
     },
     "metadata": {}
    },
    {
     "output_type": "stream",
     "name": "stdout",
     "text": [
      "\n"
     ]
    },
    {
     "output_type": "display_data",
     "data": {
      "text/plain": "HBox(children=(FloatProgress(value=0.0, max=2.0), HTML(value='')))",
      "application/vnd.jupyter.widget-view+json": {
       "version_major": 2,
       "version_minor": 0,
       "model_id": "134ae50fc5e74e1d9d0dc5daab991268"
      }
     },
     "metadata": {}
    },
    {
     "output_type": "display_data",
     "data": {
      "text/plain": "<IPython.core.display.HTML object>",
      "text/html": "Finishing last run (ID:2gwx73vz) before initializing another..."
     },
     "metadata": {}
    },
    {
     "output_type": "display_data",
     "data": {
      "text/plain": "<IPython.core.display.HTML object>",
      "text/html": "<br/>Waiting for W&B process to finish, PID 22593<br/>Program ended successfully."
     },
     "metadata": {}
    },
    {
     "output_type": "display_data",
     "data": {
      "text/plain": "VBox(children=(Label(value=' 0.00MB of 0.00MB uploaded (0.00MB deduped)\\r'), FloatProgress(value=1.0, max=1.0)…",
      "application/vnd.jupyter.widget-view+json": {
       "version_major": 2,
       "version_minor": 0,
       "model_id": "3feaf6a6855f443588f560f85decda55"
      }
     },
     "metadata": {}
    },
    {
     "output_type": "display_data",
     "data": {
      "text/plain": "<IPython.core.display.HTML object>",
      "text/html": "Find user logs for this run at: <code>/Users/patrick/Projects/ML/Siemens Challenge/dependable-classification/wandb/run-20210410_101701-2gwx73vz/logs/debug.log</code>"
     },
     "metadata": {}
    },
    {
     "output_type": "display_data",
     "data": {
      "text/plain": "<IPython.core.display.HTML object>",
      "text/html": "Find internal logs for this run at: <code>/Users/patrick/Projects/ML/Siemens Challenge/dependable-classification/wandb/run-20210410_101701-2gwx73vz/logs/debug-internal.log</code>"
     },
     "metadata": {}
    },
    {
     "output_type": "display_data",
     "data": {
      "text/plain": "<IPython.core.display.HTML object>",
      "text/html": "<h3>Run summary:</h3><br/><style>\n    table.wandb td:nth-child(1) { padding: 0 10px; text-align: right }\n    </style><table class=\"wandb\">\n<tr><td>train_acc</td><td>0.87111</td></tr><tr><td>train_f1</td><td>0.86751</td></tr><tr><td>train_precision</td><td>0.87135</td></tr><tr><td>train_recall</td><td>0.87111</td></tr><tr><td>test_acc</td><td>0.86</td></tr><tr><td>test_f1</td><td>0.85601</td></tr><tr><td>test_precision</td><td>0.85552</td></tr><tr><td>test_recall</td><td>0.86</td></tr><tr><td>_runtime</td><td>2</td></tr><tr><td>_timestamp</td><td>1618042627</td></tr><tr><td>_step</td><td>0</td></tr></table>"
     },
     "metadata": {}
    },
    {
     "output_type": "display_data",
     "data": {
      "text/plain": "<IPython.core.display.HTML object>",
      "text/html": "<h3>Run history:</h3><br/><style>\n    table.wandb td:nth-child(1) { padding: 0 10px; text-align: right }\n    </style><table class=\"wandb\">\n<tr><td>train_acc</td><td>▁</td></tr><tr><td>train_f1</td><td>▁</td></tr><tr><td>train_precision</td><td>▁</td></tr><tr><td>train_recall</td><td>▁</td></tr><tr><td>test_acc</td><td>▁</td></tr><tr><td>test_f1</td><td>▁</td></tr><tr><td>test_precision</td><td>▁</td></tr><tr><td>test_recall</td><td>▁</td></tr><tr><td>_runtime</td><td>▁</td></tr><tr><td>_timestamp</td><td>▁</td></tr><tr><td>_step</td><td>▁</td></tr></table><br/>"
     },
     "metadata": {}
    },
    {
     "output_type": "display_data",
     "data": {
      "text/plain": "<IPython.core.display.HTML object>",
      "text/html": "Synced 4 W&B file(s), 0 media file(s), 0 artifact file(s) and 0 other file(s)"
     },
     "metadata": {}
    },
    {
     "output_type": "display_data",
     "data": {
      "text/plain": "<IPython.core.display.HTML object>",
      "text/html": "\n                    <br/>Synced <strong style=\"color:#cdcd00\">wobbly-waterfall-83</strong>: <a href=\"https://wandb.ai/implication-elimination/dependable-classification/runs/2gwx73vz\" target=\"_blank\">https://wandb.ai/implication-elimination/dependable-classification/runs/2gwx73vz</a><br/>\n                "
     },
     "metadata": {}
    },
    {
     "output_type": "display_data",
     "data": {
      "text/plain": "<IPython.core.display.HTML object>",
      "text/html": "...Successfully finished last run (ID:2gwx73vz). Initializing new run:<br/><br/>"
     },
     "metadata": {}
    },
    {
     "output_type": "display_data",
     "data": {
      "text/plain": "<IPython.core.display.HTML object>",
      "text/html": "\n                Tracking run with wandb version 0.10.25<br/>\n                Syncing run <strong style=\"color:#cdcd00\">feasible-vortex-84</strong> to <a href=\"https://wandb.ai\" target=\"_blank\">Weights & Biases</a> <a href=\"https://docs.wandb.com/integrations/jupyter.html\" target=\"_blank\">(Documentation)</a>.<br/>\n                Project page: <a href=\"https://wandb.ai/implication-elimination/dependable-classification\" target=\"_blank\">https://wandb.ai/implication-elimination/dependable-classification</a><br/>\n                Run page: <a href=\"https://wandb.ai/implication-elimination/dependable-classification/runs/1lyl680d\" target=\"_blank\">https://wandb.ai/implication-elimination/dependable-classification/runs/1lyl680d</a><br/>\n                Run data is saved locally in <code>/Users/patrick/Projects/ML/Siemens Challenge/dependable-classification/wandb/run-20210410_101707-1lyl680d</code><br/><br/>\n            "
     },
     "metadata": {}
    },
    {
     "output_type": "display_data",
     "data": {
      "text/plain": "<IPython.core.display.HTML object>",
      "text/html": "Finishing last run (ID:1lyl680d) before initializing another..."
     },
     "metadata": {}
    },
    {
     "output_type": "display_data",
     "data": {
      "text/plain": "<IPython.core.display.HTML object>",
      "text/html": "<br/>Waiting for W&B process to finish, PID 22603<br/>Program ended successfully."
     },
     "metadata": {}
    },
    {
     "output_type": "display_data",
     "data": {
      "text/plain": "VBox(children=(Label(value=' 0.00MB of 0.00MB uploaded (0.00MB deduped)\\r'), FloatProgress(value=1.0, max=1.0)…",
      "application/vnd.jupyter.widget-view+json": {
       "version_major": 2,
       "version_minor": 0,
       "model_id": "a3d4f427e8a9493fa864be4056d63e71"
      }
     },
     "metadata": {}
    },
    {
     "output_type": "display_data",
     "data": {
      "text/plain": "<IPython.core.display.HTML object>",
      "text/html": "Find user logs for this run at: <code>/Users/patrick/Projects/ML/Siemens Challenge/dependable-classification/wandb/run-20210410_101707-1lyl680d/logs/debug.log</code>"
     },
     "metadata": {}
    },
    {
     "output_type": "display_data",
     "data": {
      "text/plain": "<IPython.core.display.HTML object>",
      "text/html": "Find internal logs for this run at: <code>/Users/patrick/Projects/ML/Siemens Challenge/dependable-classification/wandb/run-20210410_101707-1lyl680d/logs/debug-internal.log</code>"
     },
     "metadata": {}
    },
    {
     "output_type": "display_data",
     "data": {
      "text/plain": "<IPython.core.display.HTML object>",
      "text/html": "<h3>Run summary:</h3><br/><style>\n    table.wandb td:nth-child(1) { padding: 0 10px; text-align: right }\n    </style><table class=\"wandb\">\n<tr><td>train_acc</td><td>0.84511</td></tr><tr><td>train_f1</td><td>0.84514</td></tr><tr><td>train_precision</td><td>0.84521</td></tr><tr><td>train_recall</td><td>0.84511</td></tr><tr><td>test_acc</td><td>0.856</td></tr><tr><td>test_f1</td><td>0.85619</td></tr><tr><td>test_precision</td><td>0.85737</td></tr><tr><td>test_recall</td><td>0.856</td></tr><tr><td>_runtime</td><td>1</td></tr><tr><td>_timestamp</td><td>1618042632</td></tr><tr><td>_step</td><td>0</td></tr></table>"
     },
     "metadata": {}
    },
    {
     "output_type": "display_data",
     "data": {
      "text/plain": "<IPython.core.display.HTML object>",
      "text/html": "<h3>Run history:</h3><br/><style>\n    table.wandb td:nth-child(1) { padding: 0 10px; text-align: right }\n    </style><table class=\"wandb\">\n<tr><td>train_acc</td><td>▁</td></tr><tr><td>train_f1</td><td>▁</td></tr><tr><td>train_precision</td><td>▁</td></tr><tr><td>train_recall</td><td>▁</td></tr><tr><td>test_acc</td><td>▁</td></tr><tr><td>test_f1</td><td>▁</td></tr><tr><td>test_precision</td><td>▁</td></tr><tr><td>test_recall</td><td>▁</td></tr><tr><td>_runtime</td><td>▁</td></tr><tr><td>_timestamp</td><td>▁</td></tr><tr><td>_step</td><td>▁</td></tr></table><br/>"
     },
     "metadata": {}
    },
    {
     "output_type": "display_data",
     "data": {
      "text/plain": "<IPython.core.display.HTML object>",
      "text/html": "Synced 4 W&B file(s), 0 media file(s), 0 artifact file(s) and 0 other file(s)"
     },
     "metadata": {}
    },
    {
     "output_type": "display_data",
     "data": {
      "text/plain": "<IPython.core.display.HTML object>",
      "text/html": "\n                    <br/>Synced <strong style=\"color:#cdcd00\">feasible-vortex-84</strong>: <a href=\"https://wandb.ai/implication-elimination/dependable-classification/runs/1lyl680d\" target=\"_blank\">https://wandb.ai/implication-elimination/dependable-classification/runs/1lyl680d</a><br/>\n                "
     },
     "metadata": {}
    },
    {
     "output_type": "display_data",
     "data": {
      "text/plain": "<IPython.core.display.HTML object>",
      "text/html": "...Successfully finished last run (ID:1lyl680d). Initializing new run:<br/><br/>"
     },
     "metadata": {}
    },
    {
     "output_type": "display_data",
     "data": {
      "text/plain": "<IPython.core.display.HTML object>",
      "text/html": "\n                Tracking run with wandb version 0.10.25<br/>\n                Syncing run <strong style=\"color:#cdcd00\">cerulean-plasma-85</strong> to <a href=\"https://wandb.ai\" target=\"_blank\">Weights & Biases</a> <a href=\"https://docs.wandb.com/integrations/jupyter.html\" target=\"_blank\">(Documentation)</a>.<br/>\n                Project page: <a href=\"https://wandb.ai/implication-elimination/dependable-classification\" target=\"_blank\">https://wandb.ai/implication-elimination/dependable-classification</a><br/>\n                Run page: <a href=\"https://wandb.ai/implication-elimination/dependable-classification/runs/zg5jnqiw\" target=\"_blank\">https://wandb.ai/implication-elimination/dependable-classification/runs/zg5jnqiw</a><br/>\n                Run data is saved locally in <code>/Users/patrick/Projects/ML/Siemens Challenge/dependable-classification/wandb/run-20210410_101712-zg5jnqiw</code><br/><br/>\n            "
     },
     "metadata": {}
    },
    {
     "output_type": "stream",
     "name": "stdout",
     "text": [
      "\n"
     ]
    },
    {
     "output_type": "display_data",
     "data": {
      "text/plain": "HBox(children=(FloatProgress(value=0.0, max=2.0), HTML(value='')))",
      "application/vnd.jupyter.widget-view+json": {
       "version_major": 2,
       "version_minor": 0,
       "model_id": "a7a40649e7af4a33b527da1713969ecf"
      }
     },
     "metadata": {}
    },
    {
     "output_type": "display_data",
     "data": {
      "text/plain": "<IPython.core.display.HTML object>",
      "text/html": "Finishing last run (ID:zg5jnqiw) before initializing another..."
     },
     "metadata": {}
    },
    {
     "output_type": "display_data",
     "data": {
      "text/plain": "<IPython.core.display.HTML object>",
      "text/html": "<br/>Waiting for W&B process to finish, PID 22612<br/>Program ended successfully."
     },
     "metadata": {}
    },
    {
     "output_type": "display_data",
     "data": {
      "text/plain": "VBox(children=(Label(value=' 0.00MB of 0.00MB uploaded (0.00MB deduped)\\r'), FloatProgress(value=1.0, max=1.0)…",
      "application/vnd.jupyter.widget-view+json": {
       "version_major": 2,
       "version_minor": 0,
       "model_id": "c60558acf172425091e1574a6220ae37"
      }
     },
     "metadata": {}
    },
    {
     "output_type": "display_data",
     "data": {
      "text/plain": "<IPython.core.display.HTML object>",
      "text/html": "Find user logs for this run at: <code>/Users/patrick/Projects/ML/Siemens Challenge/dependable-classification/wandb/run-20210410_101712-zg5jnqiw/logs/debug.log</code>"
     },
     "metadata": {}
    },
    {
     "output_type": "display_data",
     "data": {
      "text/plain": "<IPython.core.display.HTML object>",
      "text/html": "Find internal logs for this run at: <code>/Users/patrick/Projects/ML/Siemens Challenge/dependable-classification/wandb/run-20210410_101712-zg5jnqiw/logs/debug-internal.log</code>"
     },
     "metadata": {}
    },
    {
     "output_type": "display_data",
     "data": {
      "text/plain": "<IPython.core.display.HTML object>",
      "text/html": "<h3>Run summary:</h3><br/><style>\n    table.wandb td:nth-child(1) { padding: 0 10px; text-align: right }\n    </style><table class=\"wandb\">\n<tr><td>train_acc</td><td>0.88711</td></tr><tr><td>train_f1</td><td>0.88711</td></tr><tr><td>train_precision</td><td>0.8871</td></tr><tr><td>train_recall</td><td>0.88711</td></tr><tr><td>test_acc</td><td>0.902</td></tr><tr><td>test_f1</td><td>0.90209</td></tr><tr><td>test_precision</td><td>0.90254</td></tr><tr><td>test_recall</td><td>0.902</td></tr><tr><td>_runtime</td><td>3</td></tr><tr><td>_timestamp</td><td>1618042639</td></tr><tr><td>_step</td><td>0</td></tr></table>"
     },
     "metadata": {}
    },
    {
     "output_type": "display_data",
     "data": {
      "text/plain": "<IPython.core.display.HTML object>",
      "text/html": "<h3>Run history:</h3><br/><style>\n    table.wandb td:nth-child(1) { padding: 0 10px; text-align: right }\n    </style><table class=\"wandb\">\n<tr><td>train_acc</td><td>▁</td></tr><tr><td>train_f1</td><td>▁</td></tr><tr><td>train_precision</td><td>▁</td></tr><tr><td>train_recall</td><td>▁</td></tr><tr><td>test_acc</td><td>▁</td></tr><tr><td>test_f1</td><td>▁</td></tr><tr><td>test_precision</td><td>▁</td></tr><tr><td>test_recall</td><td>▁</td></tr><tr><td>_runtime</td><td>▁</td></tr><tr><td>_timestamp</td><td>▁</td></tr><tr><td>_step</td><td>▁</td></tr></table><br/>"
     },
     "metadata": {}
    },
    {
     "output_type": "display_data",
     "data": {
      "text/plain": "<IPython.core.display.HTML object>",
      "text/html": "Synced 4 W&B file(s), 0 media file(s), 0 artifact file(s) and 0 other file(s)"
     },
     "metadata": {}
    },
    {
     "output_type": "display_data",
     "data": {
      "text/plain": "<IPython.core.display.HTML object>",
      "text/html": "\n                    <br/>Synced <strong style=\"color:#cdcd00\">cerulean-plasma-85</strong>: <a href=\"https://wandb.ai/implication-elimination/dependable-classification/runs/zg5jnqiw\" target=\"_blank\">https://wandb.ai/implication-elimination/dependable-classification/runs/zg5jnqiw</a><br/>\n                "
     },
     "metadata": {}
    },
    {
     "output_type": "display_data",
     "data": {
      "text/plain": "<IPython.core.display.HTML object>",
      "text/html": "...Successfully finished last run (ID:zg5jnqiw). Initializing new run:<br/><br/>"
     },
     "metadata": {}
    },
    {
     "output_type": "display_data",
     "data": {
      "text/plain": "<IPython.core.display.HTML object>",
      "text/html": "\n                Tracking run with wandb version 0.10.25<br/>\n                Syncing run <strong style=\"color:#cdcd00\">jumping-durian-86</strong> to <a href=\"https://wandb.ai\" target=\"_blank\">Weights & Biases</a> <a href=\"https://docs.wandb.com/integrations/jupyter.html\" target=\"_blank\">(Documentation)</a>.<br/>\n                Project page: <a href=\"https://wandb.ai/implication-elimination/dependable-classification\" target=\"_blank\">https://wandb.ai/implication-elimination/dependable-classification</a><br/>\n                Run page: <a href=\"https://wandb.ai/implication-elimination/dependable-classification/runs/2qdssyns\" target=\"_blank\">https://wandb.ai/implication-elimination/dependable-classification/runs/2qdssyns</a><br/>\n                Run data is saved locally in <code>/Users/patrick/Projects/ML/Siemens Challenge/dependable-classification/wandb/run-20210410_101719-2qdssyns</code><br/><br/>\n            "
     },
     "metadata": {}
    },
    {
     "output_type": "display_data",
     "data": {
      "text/plain": "<IPython.core.display.HTML object>",
      "text/html": "Finishing last run (ID:2qdssyns) before initializing another..."
     },
     "metadata": {}
    },
    {
     "output_type": "display_data",
     "data": {
      "text/plain": "<IPython.core.display.HTML object>",
      "text/html": "<br/>Waiting for W&B process to finish, PID 22621<br/>Program ended successfully."
     },
     "metadata": {}
    },
    {
     "output_type": "display_data",
     "data": {
      "text/plain": "VBox(children=(Label(value=' 0.00MB of 0.00MB uploaded (0.00MB deduped)\\r'), FloatProgress(value=1.0, max=1.0)…",
      "application/vnd.jupyter.widget-view+json": {
       "version_major": 2,
       "version_minor": 0,
       "model_id": "085fd76ca98e462f9e10ff04d247215b"
      }
     },
     "metadata": {}
    },
    {
     "output_type": "display_data",
     "data": {
      "text/plain": "<IPython.core.display.HTML object>",
      "text/html": "Find user logs for this run at: <code>/Users/patrick/Projects/ML/Siemens Challenge/dependable-classification/wandb/run-20210410_101719-2qdssyns/logs/debug.log</code>"
     },
     "metadata": {}
    },
    {
     "output_type": "display_data",
     "data": {
      "text/plain": "<IPython.core.display.HTML object>",
      "text/html": "Find internal logs for this run at: <code>/Users/patrick/Projects/ML/Siemens Challenge/dependable-classification/wandb/run-20210410_101719-2qdssyns/logs/debug-internal.log</code>"
     },
     "metadata": {}
    },
    {
     "output_type": "display_data",
     "data": {
      "text/plain": "<IPython.core.display.HTML object>",
      "text/html": "<h3>Run summary:</h3><br/><style>\n    table.wandb td:nth-child(1) { padding: 0 10px; text-align: right }\n    </style><table class=\"wandb\">\n<tr><td>train_acc</td><td>0.90442</td></tr><tr><td>train_f1</td><td>0.94981</td></tr><tr><td>train_precision</td><td>0.90442</td></tr><tr><td>train_recall</td><td>1.0</td></tr><tr><td>test_acc</td><td>0.9012</td></tr><tr><td>test_f1</td><td>0.94803</td></tr><tr><td>test_precision</td><td>0.9012</td></tr><tr><td>test_recall</td><td>1.0</td></tr><tr><td>_runtime</td><td>3</td></tr><tr><td>_timestamp</td><td>1618042645</td></tr><tr><td>_step</td><td>0</td></tr></table>"
     },
     "metadata": {}
    },
    {
     "output_type": "display_data",
     "data": {
      "text/plain": "<IPython.core.display.HTML object>",
      "text/html": "<h3>Run history:</h3><br/><style>\n    table.wandb td:nth-child(1) { padding: 0 10px; text-align: right }\n    </style><table class=\"wandb\">\n<tr><td>train_acc</td><td>▁</td></tr><tr><td>train_f1</td><td>▁</td></tr><tr><td>train_precision</td><td>▁</td></tr><tr><td>train_recall</td><td>▁</td></tr><tr><td>test_acc</td><td>▁</td></tr><tr><td>test_f1</td><td>▁</td></tr><tr><td>test_precision</td><td>▁</td></tr><tr><td>test_recall</td><td>▁</td></tr><tr><td>_runtime</td><td>▁</td></tr><tr><td>_timestamp</td><td>▁</td></tr><tr><td>_step</td><td>▁</td></tr></table><br/>"
     },
     "metadata": {}
    },
    {
     "output_type": "display_data",
     "data": {
      "text/plain": "<IPython.core.display.HTML object>",
      "text/html": "Synced 4 W&B file(s), 0 media file(s), 0 artifact file(s) and 0 other file(s)"
     },
     "metadata": {}
    },
    {
     "output_type": "display_data",
     "data": {
      "text/plain": "<IPython.core.display.HTML object>",
      "text/html": "\n                    <br/>Synced <strong style=\"color:#cdcd00\">jumping-durian-86</strong>: <a href=\"https://wandb.ai/implication-elimination/dependable-classification/runs/2qdssyns\" target=\"_blank\">https://wandb.ai/implication-elimination/dependable-classification/runs/2qdssyns</a><br/>\n                "
     },
     "metadata": {}
    },
    {
     "output_type": "display_data",
     "data": {
      "text/plain": "<IPython.core.display.HTML object>",
      "text/html": "...Successfully finished last run (ID:2qdssyns). Initializing new run:<br/><br/>"
     },
     "metadata": {}
    },
    {
     "output_type": "display_data",
     "data": {
      "text/plain": "<IPython.core.display.HTML object>",
      "text/html": "\n                Tracking run with wandb version 0.10.25<br/>\n                Syncing run <strong style=\"color:#cdcd00\">pious-sunset-87</strong> to <a href=\"https://wandb.ai\" target=\"_blank\">Weights & Biases</a> <a href=\"https://docs.wandb.com/integrations/jupyter.html\" target=\"_blank\">(Documentation)</a>.<br/>\n                Project page: <a href=\"https://wandb.ai/implication-elimination/dependable-classification\" target=\"_blank\">https://wandb.ai/implication-elimination/dependable-classification</a><br/>\n                Run page: <a href=\"https://wandb.ai/implication-elimination/dependable-classification/runs/tuqsf1sv\" target=\"_blank\">https://wandb.ai/implication-elimination/dependable-classification/runs/tuqsf1sv</a><br/>\n                Run data is saved locally in <code>/Users/patrick/Projects/ML/Siemens Challenge/dependable-classification/wandb/run-20210410_101725-tuqsf1sv</code><br/><br/>\n            "
     },
     "metadata": {}
    },
    {
     "output_type": "stream",
     "name": "stdout",
     "text": [
      "\n\n"
     ]
    }
   ],
   "source": [
    "classifiers = {\n",
    "    'LR': LogisticRegression(),\n",
    "    'SVM': SVC()\n",
    "}\n",
    "\n",
    "for ds_name, data in tqdm(datasets.items()):\n",
    "    for clf_name, classifier in tqdm(classifiers.items()):\n",
    "        wandb.init(project='dependable-classification', entity='implication-elimination', config=None)\n",
    "        wandb.config.model = clf_name\n",
    "        wandb.config.dataset = ds_name\n",
    "\n",
    "        classifier.fit(data['train'][0], data['train'][1])\n",
    "\n",
    "        train_metrics = compute_metrics(data['train'][1], classifier.predict(data['train'][0]))\n",
    "        test_metrics = compute_metrics(data['test'][1], classifier.predict(data['test'][0]))\n",
    "\n",
    "        train_metrics = {f\"train_{k}\": v for k, v in train_metrics.items()} \n",
    "        test_metrics = {f\"test_{k}\": v for k, v in test_metrics.items()}\n",
    "\n",
    "        wandb.log(train_metrics | test_metrics)"
   ]
  }
 ]
}